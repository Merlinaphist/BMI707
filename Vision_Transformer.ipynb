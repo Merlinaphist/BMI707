{
  "cells": [
    {
      "cell_type": "code",
      "execution_count": null,
      "metadata": {
        "colab": {
          "base_uri": "https://localhost:8080/"
        },
        "id": "OMX8p3OB9okA",
        "outputId": "bc5f7945-fe00-4aae-cb3e-609ebfd1b968"
      },
      "outputs": [
        {
          "name": "stdout",
          "output_type": "stream",
          "text": [
            "Mounted at drive\n"
          ]
        }
      ],
      "source": [
        "from google.colab import drive\n",
        "drive.mount('drive')"
      ]
    },
    {
      "cell_type": "code",
      "execution_count": null,
      "metadata": {
        "colab": {
          "base_uri": "https://localhost:8080/"
        },
        "id": "Huki1D8EDPUw",
        "outputId": "01b506fe-e8dd-43be-eb1e-8c0704505379"
      },
      "outputs": [],
      "source": [
        "!tar -xvf 'drive/MyDrive/Harvard/BMI707/Data/OCT2017.tar.gz' -C './'"
      ]
    },
    {
      "cell_type": "code",
      "execution_count": null,
      "metadata": {
        "colab": {
          "base_uri": "https://localhost:8080/"
        },
        "id": "iZq5xVd-GmkR",
        "outputId": "e62cb0b1-a7f9-4a11-8e92-6e38a8348d61"
      },
      "outputs": [
        {
          "name": "stderr",
          "output_type": "stream",
          "text": [
            "100%|██████████| 1000/1000 [00:38<00:00, 25.90it/s]\n",
            "100%|██████████| 1000/1000 [00:47<00:00, 21.08it/s]\n",
            "100%|██████████| 1000/1000 [00:43<00:00, 22.83it/s]\n",
            "100%|██████████| 1000/1000 [00:47<00:00, 20.90it/s]\n",
            "100%|██████████| 250/250 [00:09<00:00, 25.17it/s]\n",
            "100%|██████████| 250/250 [00:07<00:00, 31.72it/s]\n",
            "100%|██████████| 250/250 [00:08<00:00, 28.33it/s]\n",
            "100%|██████████| 250/250 [00:09<00:00, 25.91it/s]\n"
          ]
        }
      ],
      "source": [
        "training_size = 4000\n",
        "num_class = 4\n",
        "\n",
        "imageSize=224\n",
        "train_dir = \"./OCT2017/train/\"\n",
        "test_dir =  \"./OCT2017/test/\"\n",
        "\n",
        "from tqdm import tqdm\n",
        "import os\n",
        "import cv2\n",
        "import numpy as np\n",
        "import skimage\n",
        "\n",
        "def get_data(folder):\n",
        "    \"\"\"\n",
        "    Load the data and labels from the given folder.\n",
        "    \"\"\"\n",
        "    X = []\n",
        "    y = []\n",
        "    for folderName in os.listdir(folder):\n",
        "        if not folderName.startswith('.'):\n",
        "            if folderName in ['NORMAL']:\n",
        "                label = 0\n",
        "            elif folderName in ['CNV']:\n",
        "                label = 1\n",
        "            elif folderName in ['DME']:\n",
        "                label = 2\n",
        "            elif folderName in ['DRUSEN']:\n",
        "                label = 3\n",
        "            else:\n",
        "                label = 4\n",
        "            for image_filename in tqdm(os.listdir(folder + folderName)[:int(training_size/num_class)]):\n",
        "                img_file = cv2.imread(folder + folderName + '/' + image_filename)\n",
        "                if img_file is not None:\n",
        "                    img_file = skimage.transform.resize(img_file, (imageSize, imageSize, 3))\n",
        "                    img_arr = np.asarray(img_file)\n",
        "                    X.append(img_arr)\n",
        "                    y.append(label)\n",
        "    X = np.asarray(X)\n",
        "    y = np.asarray(y)\n",
        "    return X,y\n",
        "\n",
        "X_train, y_train = get_data(train_dir)\n",
        "X_test, y_test= get_data(test_dir)"
      ]
    },
    {
      "cell_type": "code",
      "execution_count": null,
      "metadata": {
        "colab": {
          "base_uri": "https://localhost:8080/"
        },
        "id": "JHEuIaYUHXLe",
        "outputId": "28b1e74c-9350-4c05-d038-b8ad6446c7b3"
      },
      "outputs": [
        {
          "name": "stdout",
          "output_type": "stream",
          "text": [
            "(4000, 224, 224, 3)\n",
            "(1000, 224, 224, 3)\n",
            "The number of 0 samples: 1000\n",
            "The number of 1 samples: 1000\n",
            "The number of 2 samples: 1000\n",
            "The number of 3 samples: 1000\n"
          ]
        }
      ],
      "source": [
        "unique, counts = np.unique(y_train, return_counts=True)\n",
        "\n",
        "print(X_train.shape)\n",
        "print(X_test.shape)\n",
        "\n",
        "for label, count in zip(unique, counts):\n",
        "  print(\"The number of {} samples: {}\".format(label, count))"
      ]
    },
    {
      "cell_type": "code",
      "execution_count": null,
      "metadata": {
        "id": "rVM0kftGHcZx"
      },
      "outputs": [],
      "source": [
        "from transformers import AutoImageProcessor, ViTModel\n",
        "import torch\n",
        "import torch.utils.data as Data\n",
        "from tqdm import tqdm\n",
        "import copy"
      ]
    },
    {
      "cell_type": "code",
      "execution_count": null,
      "metadata": {
        "id": "HfHvWWVnMyJG"
      },
      "outputs": [],
      "source": [
        "class Vision_Transformer(torch.nn.Module):\n",
        "    def __init__(self, link=\"google/vit-base-patch16-224-in21k\", device='cpu', freeze_embedding=True):\n",
        "        super(Vision_Transformer, self).__init__()\n",
        "        self.image_processor = AutoImageProcessor.from_pretrained(link, do_rescale=False)\n",
        "        self.embedding = ViTModel.from_pretrained(link)\n",
        "        self.embedding_dim = self.embedding.config.hidden_size\n",
        "\n",
        "        self.classifier = torch.nn.Sequential(\n",
        "          torch.nn.Linear(self.embedding_dim, 256),\n",
        "          torch.nn.ReLU(),\n",
        "          torch.nn.Linear(256, 128),\n",
        "          torch.nn.ReLU(),\n",
        "          torch.nn.Linear(128, 4),\n",
        "          torch.nn.Softmax(dim=-1)\n",
        "        )\n",
        "\n",
        "        if freeze_embedding:\n",
        "            for para in self.embedding.parameters():\n",
        "                para.requires_grad = False\n",
        "\n",
        "        self.to(device)\n",
        "\n",
        "    def forward(self, x):\n",
        "        inputs = self.image_processor(x, return_tensors='pt')\n",
        "        encoded_input = {key: value.to(next(self.parameters()).device) for key, value in inputs.items()}\n",
        "        model_output = self.embedding(**encoded_input)\n",
        "\n",
        "        embeddings = model_output.last_hidden_state[:, 0, :]\n",
        "        logits = self.classifier(embeddings)\n",
        "\n",
        "        return logits"
      ]
    },
    {
      "cell_type": "code",
      "execution_count": null,
      "metadata": {
        "colab": {
          "base_uri": "https://localhost:8080/",
          "height": 217,
          "referenced_widgets": [
            "ccc6c6bbe4e74b508505c18978882db8",
            "c04515eba04a41c7a15b11aa99267d8c",
            "69fc2a990e1d48bc83b475ac74b775a7",
            "66a23d4c116748a99d8754e293486f12",
            "22c69f081c424e70a5ff9810540f673c",
            "0ad43dea3c4e4c29871768d407e0ee13",
            "4f8e958001d44245af61b809d9931cf2",
            "ca4c6620e7f545b094ac60f799de98d6",
            "98e02ed558844372bd47267cbb4eea08",
            "4e62110488fc453e863f3c751dc75325",
            "9cead4ce18374994a418e48891f0ed09",
            "f3082944e39249f5a9dadd63bce6ca8b",
            "2f3a47c8eed645238853bb9a965f14c1",
            "ecab13ca4de849a08ace61fce6b69f14",
            "994e0195110747b4bf377ac36141a8e6",
            "58ab5668c62a433fb9358f0103257890",
            "918d35bf816c43dd8578676f7c168619",
            "e0fbef0227e64c5a9391c1ae1364669b",
            "8a497766105c46d3933312cfd5cdc67e",
            "376d6d2d37064188a4e8364f1c87fc1d",
            "19e5b99ad3e5472291b61fc4380ddca2",
            "976866b9ca9146abb3ffe03307a5c167",
            "3da8e298a0c14cfc897a24dc094ea890",
            "15c8d982a6ad47b99fb81b11571760ac",
            "9631934291664ec3977047649720137a",
            "09e11e37922f4906b6ce757fd177b041",
            "72ae164103694accaf020d3e89b53521",
            "2b2aaf1b7045408ebeb9e7f055ed261e",
            "84ef9da55c894da28705168f2795e0ef",
            "27b043480e3448879c44e9c6ff76e25b",
            "a0037f778b404a879239efffa6786889",
            "f254a290508d457dbde4264d9b64b944",
            "c60f046dd916442a90d27b3fe6f0ff13"
          ]
        },
        "id": "LDCz6AIeQ3rC",
        "outputId": "9ec356c1-6fc7-4c4c-8a1f-91699cbfcdfc"
      },
      "outputs": [
        {
          "name": "stderr",
          "output_type": "stream",
          "text": [
            "/usr/local/lib/python3.10/dist-packages/huggingface_hub/utils/_token.py:88: UserWarning: \n",
            "The secret `HF_TOKEN` does not exist in your Colab secrets.\n",
            "To authenticate with the Hugging Face Hub, create a token in your settings tab (https://huggingface.co/settings/tokens), set it as secret in your Google Colab and restart your session.\n",
            "You will be able to reuse this secret in all of your notebooks.\n",
            "Please note that authentication is recommended but still optional to access public models or datasets.\n",
            "  warnings.warn(\n"
          ]
        },
        {
          "data": {
            "application/vnd.jupyter.widget-view+json": {
              "model_id": "ccc6c6bbe4e74b508505c18978882db8",
              "version_major": 2,
              "version_minor": 0
            },
            "text/plain": [
              "preprocessor_config.json:   0%|          | 0.00/160 [00:00<?, ?B/s]"
            ]
          },
          "metadata": {},
          "output_type": "display_data"
        },
        {
          "data": {
            "application/vnd.jupyter.widget-view+json": {
              "model_id": "f3082944e39249f5a9dadd63bce6ca8b",
              "version_major": 2,
              "version_minor": 0
            },
            "text/plain": [
              "config.json:   0%|          | 0.00/502 [00:00<?, ?B/s]"
            ]
          },
          "metadata": {},
          "output_type": "display_data"
        },
        {
          "data": {
            "application/vnd.jupyter.widget-view+json": {
              "model_id": "3da8e298a0c14cfc897a24dc094ea890",
              "version_major": 2,
              "version_minor": 0
            },
            "text/plain": [
              "model.safetensors:   0%|          | 0.00/346M [00:00<?, ?B/s]"
            ]
          },
          "metadata": {},
          "output_type": "display_data"
        }
      ],
      "source": [
        "model = Vision_Transformer()\n",
        "out = model(X_train[:2])"
      ]
    },
    {
      "cell_type": "code",
      "execution_count": null,
      "metadata": {
        "colab": {
          "base_uri": "https://localhost:8080/"
        },
        "id": "kbP0xAkDRKtz",
        "outputId": "f0f900af-c25c-4335-b9e2-81d071ad149b"
      },
      "outputs": [
        {
          "data": {
            "text/plain": [
              "tensor([[0.2562, 0.2317, 0.2546, 0.2575],\n",
              "        [0.2539, 0.2326, 0.2610, 0.2525]], grad_fn=<SoftmaxBackward0>)"
            ]
          },
          "execution_count": 10,
          "metadata": {},
          "output_type": "execute_result"
        }
      ],
      "source": [
        "out"
      ]
    },
    {
      "cell_type": "code",
      "execution_count": null,
      "metadata": {
        "id": "w3eGROxsJfXh"
      },
      "outputs": [],
      "source": [
        "class DLClassifier():\n",
        "    def __init__(self, model, lr, minibatch, epoch, verbose=True, cuda=False):\n",
        "        self.model = model\n",
        "        self.best_model = None\n",
        "        self.loss = None\n",
        "        self.val_loss = None\n",
        "        self.epoch = epoch\n",
        "        self.lr = lr\n",
        "        self.minibatch = minibatch\n",
        "        self.optimizer = None\n",
        "        self.scheduler = None\n",
        "        self.criterion = None\n",
        "        self.verbose = verbose\n",
        "        self.cuda = cuda\n",
        "\n",
        "    def fit(self, x_train, y_train, x_test, y_test, save_best=True):\n",
        "        torch_dataset = Data.TensorDataset(torch.from_numpy(x_train), torch.from_numpy(y_train))\n",
        "        loader = Data.DataLoader(\n",
        "            dataset=torch_dataset,\n",
        "            batch_size=self.minibatch,\n",
        "            shuffle=True,\n",
        "            drop_last=False\n",
        "        )\n",
        "\n",
        "        if self.cuda and torch.cuda.is_available():\n",
        "            self.model = self.model.cuda()\n",
        "            self.criterion = torch.nn.CrossEntropyLoss().cuda()\n",
        "        else:\n",
        "            self.model = self.model.cpu()\n",
        "            self.criterion = torch.nn.CrossEntropyLoss()\n",
        "\n",
        "        self.optimizer = torch.optim.Adam(self.model.parameters(), lr=self.lr)\n",
        "        self.scheduler = torch.optim.lr_scheduler.ReduceLROnPlateau(self.optimizer, mode='min', factor=0.5, patience=40,\n",
        "                                                               verbose=False, threshold=0.0001, threshold_mode='rel',\n",
        "                                                               cooldown=0, min_lr=1e-05, eps=1e-08)\n",
        "\n",
        "        loss_list = []\n",
        "        valid_loss_list = []\n",
        "\n",
        "        min_loss_val = 1e10\n",
        "\n",
        "        for epoch in range(self.epoch):\n",
        "            self.model.train()\n",
        "            epoch_loss = 0\n",
        "            loss_ = 0\n",
        "            for idx, (x, target) in enumerate(tqdm(loader), 0):\n",
        "                if self.cuda and torch.cuda.is_available():\n",
        "                    x = x.cuda()\n",
        "                    target = target.cuda()\n",
        "                else:\n",
        "                    x = x.cpu()\n",
        "                    target = target.cpu()\n",
        "                predict = self.model(x)\n",
        "                #            losses.append(loss)\n",
        "                self.optimizer.zero_grad()\n",
        "                loss = self.criterion(predict, target.long())\n",
        "\n",
        "                loss.backward()\n",
        "                self.optimizer.step()\n",
        "                #self.scheduler.step(loss)\n",
        "                epoch_loss += loss.item()\n",
        "                loss_ = epoch_loss / (idx + 1)\n",
        "                del x, target, predict\n",
        "                if self.cuda and torch.cuda.is_available():\n",
        "                    torch.cuda.empty_cache()\n",
        "            loss_list.append(loss_)\n",
        "            with torch.no_grad():\n",
        "                if self.cuda and torch.cuda.is_available():\n",
        "                    pred = self.model(torch.tensor(x_test).cuda())\n",
        "                    y = torch.tensor(y_test).cuda()\n",
        "                else:\n",
        "                    pred = self.model(torch.tensor(x_test))\n",
        "                    y = torch.tensor(y_test)\n",
        "                valid_loss = self.criterion(pred, y.long())\n",
        "                valid_loss_list.append(valid_loss.item())\n",
        "                if self.verbose:\n",
        "                    correct = int(torch.sum(torch.argmax(pred, dim=1) == y))\n",
        "                    total = len(y)\n",
        "                    print(\"Epoch={}/{}, train_loss={}, valid_loss={}, valid_acc={}, lr={}\".format(\n",
        "                        epoch + 1, self.epoch, loss_, valid_loss, correct / total,\n",
        "                        self.optimizer.state_dict()['param_groups'][0]['lr']))\n",
        "                if save_best:\n",
        "                  if valid_loss <= min_loss_val and epoch > 5:\n",
        "                      min_loss_val = valid_loss\n",
        "                      self.best_model = copy.deepcopy(self.model)\n",
        "        self.loss = loss_list\n",
        "        self.val_loss = valid_loss_list\n",
        "        print('Training finished.')\n",
        "\n",
        "    def predict(self, X):\n",
        "        self.model.eval()\n",
        "        if self.cuda:\n",
        "            outputs = self.model(torch.tensor(X).cuda())\n",
        "        else:\n",
        "            outputs = self.model(torch.tensor(X).cpu())\n",
        "        pred = torch.argmax(outputs, dim=1).cpu().numpy().astype('int64')\n",
        "        return pred\n",
        "\n",
        "    def predict_prob(self, X):\n",
        "        self.model.eval()\n",
        "        if self.cuda:\n",
        "            outputs = self.model(torch.tensor(X).cuda())\n",
        "        else:\n",
        "            outputs = self.model(torch.tensor(X).cpu())\n",
        "        pred = outputs.detach().cpu().numpy()\n",
        "        return pred"
      ]
    },
    {
      "cell_type": "code",
      "execution_count": null,
      "metadata": {
        "id": "jffSTkkwRUSl"
      },
      "outputs": [],
      "source": [
        "base = Vision_Transformer(device='cuda')\n",
        "ViT_clf = DLClassifier(base, lr=0.001, minibatch=32, epoch=10, cuda=True)"
      ]
    },
    {
      "cell_type": "code",
      "execution_count": null,
      "metadata": {
        "colab": {
          "base_uri": "https://localhost:8080/"
        },
        "id": "1wE6M48aR0Mc",
        "outputId": "e214549b-61f7-4519-aa89-b9386a925302"
      },
      "outputs": [
        {
          "name": "stderr",
          "output_type": "stream",
          "text": [
            "/usr/local/lib/python3.10/dist-packages/torch/optim/lr_scheduler.py:28: UserWarning: The verbose parameter is deprecated. Please use get_last_lr() to access the learning rate.\n",
            "  warnings.warn(\"The verbose parameter is deprecated. Please use get_last_lr() \"\n",
            "100%|██████████| 125/125 [01:34<00:00,  1.33it/s]\n"
          ]
        },
        {
          "name": "stdout",
          "output_type": "stream",
          "text": [
            "Epoch=1/10, train_loss=1.1415690150260924, valid_loss=0.8692566156387329, valid_acc=0.893, lr=0.001\n"
          ]
        },
        {
          "name": "stderr",
          "output_type": "stream",
          "text": [
            "100%|██████████| 125/125 [01:17<00:00,  1.62it/s]\n"
          ]
        },
        {
          "name": "stdout",
          "output_type": "stream",
          "text": [
            "Epoch=2/10, train_loss=0.9779788122177124, valid_loss=0.8288081884384155, valid_acc=0.929, lr=0.001\n"
          ]
        },
        {
          "name": "stderr",
          "output_type": "stream",
          "text": [
            "100%|██████████| 125/125 [01:21<00:00,  1.54it/s]\n"
          ]
        },
        {
          "name": "stdout",
          "output_type": "stream",
          "text": [
            "Epoch=3/10, train_loss=0.9407933602333068, valid_loss=0.820317268371582, valid_acc=0.935, lr=0.001\n"
          ]
        },
        {
          "name": "stderr",
          "output_type": "stream",
          "text": [
            "100%|██████████| 125/125 [01:20<00:00,  1.56it/s]\n"
          ]
        },
        {
          "name": "stdout",
          "output_type": "stream",
          "text": [
            "Epoch=4/10, train_loss=0.9294708108901978, valid_loss=0.841715395450592, valid_acc=0.903, lr=0.001\n"
          ]
        },
        {
          "name": "stderr",
          "output_type": "stream",
          "text": [
            "100%|██████████| 125/125 [01:19<00:00,  1.58it/s]\n"
          ]
        },
        {
          "name": "stdout",
          "output_type": "stream",
          "text": [
            "Epoch=5/10, train_loss=0.9147429966926575, valid_loss=0.7933866381645203, valid_acc=0.956, lr=0.001\n"
          ]
        },
        {
          "name": "stderr",
          "output_type": "stream",
          "text": [
            "100%|██████████| 125/125 [01:19<00:00,  1.57it/s]\n"
          ]
        },
        {
          "name": "stdout",
          "output_type": "stream",
          "text": [
            "Epoch=6/10, train_loss=0.9014894495010376, valid_loss=0.8085428476333618, valid_acc=0.936, lr=0.001\n"
          ]
        },
        {
          "name": "stderr",
          "output_type": "stream",
          "text": [
            "100%|██████████| 125/125 [01:18<00:00,  1.59it/s]\n"
          ]
        },
        {
          "name": "stdout",
          "output_type": "stream",
          "text": [
            "Epoch=7/10, train_loss=0.8928033776283264, valid_loss=0.7873673439025879, valid_acc=0.957, lr=0.001\n"
          ]
        },
        {
          "name": "stderr",
          "output_type": "stream",
          "text": [
            "100%|██████████| 125/125 [01:19<00:00,  1.58it/s]\n"
          ]
        },
        {
          "name": "stdout",
          "output_type": "stream",
          "text": [
            "Epoch=8/10, train_loss=0.8864827075004578, valid_loss=0.8080419301986694, valid_acc=0.936, lr=0.001\n"
          ]
        },
        {
          "name": "stderr",
          "output_type": "stream",
          "text": [
            "100%|██████████| 125/125 [01:19<00:00,  1.58it/s]\n"
          ]
        },
        {
          "name": "stdout",
          "output_type": "stream",
          "text": [
            "Epoch=9/10, train_loss=0.882181803226471, valid_loss=0.7901687026023865, valid_acc=0.951, lr=0.001\n"
          ]
        },
        {
          "name": "stderr",
          "output_type": "stream",
          "text": [
            "100%|██████████| 125/125 [01:19<00:00,  1.58it/s]\n"
          ]
        },
        {
          "name": "stdout",
          "output_type": "stream",
          "text": [
            "Epoch=10/10, train_loss=0.879286135673523, valid_loss=0.7988764047622681, valid_acc=0.945, lr=0.001\n",
            "Training finished.\n"
          ]
        }
      ],
      "source": [
        "ViT_clf.fit(X_train, y_train, X_test, y_test)"
      ]
    },
    {
      "cell_type": "code",
      "execution_count": null,
      "metadata": {
        "id": "D0d6FNz9FFl0"
      },
      "outputs": [],
      "source": [
        "from sklearn.metrics import confusion_matrix, classification_report\n",
        "import seaborn as sns\n",
        "\n",
        "y_pred = ResNet_clf.predict(X_test)\n",
        "sns.heatmap(confusion_matrix(y_test, y_pred), annot=True)\n",
        "print(classification_report(y_test, y_pred))"
      ]
    }
  ],
  "metadata": {
    "accelerator": "GPU",
    "colab": {
      "gpuType": "T4",
      "provenance": []
    },
    "kernelspec": {
      "display_name": "Python 3",
      "name": "python3"
    },
    "language_info": {
      "name": "python"
    },
    "widgets": {
      "application/vnd.jupyter.widget-state+json": {
        "09e11e37922f4906b6ce757fd177b041": {
          "model_module": "@jupyter-widgets/controls",
          "model_module_version": "1.5.0",
          "model_name": "HTMLModel",
          "state": {
            "_dom_classes": [],
            "_model_module": "@jupyter-widgets/controls",
            "_model_module_version": "1.5.0",
            "_model_name": "HTMLModel",
            "_view_count": null,
            "_view_module": "@jupyter-widgets/controls",
            "_view_module_version": "1.5.0",
            "_view_name": "HTMLView",
            "description": "",
            "description_tooltip": null,
            "layout": "IPY_MODEL_f254a290508d457dbde4264d9b64b944",
            "placeholder": "​",
            "style": "IPY_MODEL_c60f046dd916442a90d27b3fe6f0ff13",
            "value": " 346M/346M [00:01&lt;00:00, 264MB/s]"
          }
        },
        "0ad43dea3c4e4c29871768d407e0ee13": {
          "model_module": "@jupyter-widgets/base",
          "model_module_version": "1.2.0",
          "model_name": "LayoutModel",
          "state": {
            "_model_module": "@jupyter-widgets/base",
            "_model_module_version": "1.2.0",
            "_model_name": "LayoutModel",
            "_view_count": null,
            "_view_module": "@jupyter-widgets/base",
            "_view_module_version": "1.2.0",
            "_view_name": "LayoutView",
            "align_content": null,
            "align_items": null,
            "align_self": null,
            "border": null,
            "bottom": null,
            "display": null,
            "flex": null,
            "flex_flow": null,
            "grid_area": null,
            "grid_auto_columns": null,
            "grid_auto_flow": null,
            "grid_auto_rows": null,
            "grid_column": null,
            "grid_gap": null,
            "grid_row": null,
            "grid_template_areas": null,
            "grid_template_columns": null,
            "grid_template_rows": null,
            "height": null,
            "justify_content": null,
            "justify_items": null,
            "left": null,
            "margin": null,
            "max_height": null,
            "max_width": null,
            "min_height": null,
            "min_width": null,
            "object_fit": null,
            "object_position": null,
            "order": null,
            "overflow": null,
            "overflow_x": null,
            "overflow_y": null,
            "padding": null,
            "right": null,
            "top": null,
            "visibility": null,
            "width": null
          }
        },
        "15c8d982a6ad47b99fb81b11571760ac": {
          "model_module": "@jupyter-widgets/controls",
          "model_module_version": "1.5.0",
          "model_name": "HTMLModel",
          "state": {
            "_dom_classes": [],
            "_model_module": "@jupyter-widgets/controls",
            "_model_module_version": "1.5.0",
            "_model_name": "HTMLModel",
            "_view_count": null,
            "_view_module": "@jupyter-widgets/controls",
            "_view_module_version": "1.5.0",
            "_view_name": "HTMLView",
            "description": "",
            "description_tooltip": null,
            "layout": "IPY_MODEL_2b2aaf1b7045408ebeb9e7f055ed261e",
            "placeholder": "​",
            "style": "IPY_MODEL_84ef9da55c894da28705168f2795e0ef",
            "value": "model.safetensors: 100%"
          }
        },
        "19e5b99ad3e5472291b61fc4380ddca2": {
          "model_module": "@jupyter-widgets/base",
          "model_module_version": "1.2.0",
          "model_name": "LayoutModel",
          "state": {
            "_model_module": "@jupyter-widgets/base",
            "_model_module_version": "1.2.0",
            "_model_name": "LayoutModel",
            "_view_count": null,
            "_view_module": "@jupyter-widgets/base",
            "_view_module_version": "1.2.0",
            "_view_name": "LayoutView",
            "align_content": null,
            "align_items": null,
            "align_self": null,
            "border": null,
            "bottom": null,
            "display": null,
            "flex": null,
            "flex_flow": null,
            "grid_area": null,
            "grid_auto_columns": null,
            "grid_auto_flow": null,
            "grid_auto_rows": null,
            "grid_column": null,
            "grid_gap": null,
            "grid_row": null,
            "grid_template_areas": null,
            "grid_template_columns": null,
            "grid_template_rows": null,
            "height": null,
            "justify_content": null,
            "justify_items": null,
            "left": null,
            "margin": null,
            "max_height": null,
            "max_width": null,
            "min_height": null,
            "min_width": null,
            "object_fit": null,
            "object_position": null,
            "order": null,
            "overflow": null,
            "overflow_x": null,
            "overflow_y": null,
            "padding": null,
            "right": null,
            "top": null,
            "visibility": null,
            "width": null
          }
        },
        "22c69f081c424e70a5ff9810540f673c": {
          "model_module": "@jupyter-widgets/base",
          "model_module_version": "1.2.0",
          "model_name": "LayoutModel",
          "state": {
            "_model_module": "@jupyter-widgets/base",
            "_model_module_version": "1.2.0",
            "_model_name": "LayoutModel",
            "_view_count": null,
            "_view_module": "@jupyter-widgets/base",
            "_view_module_version": "1.2.0",
            "_view_name": "LayoutView",
            "align_content": null,
            "align_items": null,
            "align_self": null,
            "border": null,
            "bottom": null,
            "display": null,
            "flex": null,
            "flex_flow": null,
            "grid_area": null,
            "grid_auto_columns": null,
            "grid_auto_flow": null,
            "grid_auto_rows": null,
            "grid_column": null,
            "grid_gap": null,
            "grid_row": null,
            "grid_template_areas": null,
            "grid_template_columns": null,
            "grid_template_rows": null,
            "height": null,
            "justify_content": null,
            "justify_items": null,
            "left": null,
            "margin": null,
            "max_height": null,
            "max_width": null,
            "min_height": null,
            "min_width": null,
            "object_fit": null,
            "object_position": null,
            "order": null,
            "overflow": null,
            "overflow_x": null,
            "overflow_y": null,
            "padding": null,
            "right": null,
            "top": null,
            "visibility": null,
            "width": null
          }
        },
        "27b043480e3448879c44e9c6ff76e25b": {
          "model_module": "@jupyter-widgets/base",
          "model_module_version": "1.2.0",
          "model_name": "LayoutModel",
          "state": {
            "_model_module": "@jupyter-widgets/base",
            "_model_module_version": "1.2.0",
            "_model_name": "LayoutModel",
            "_view_count": null,
            "_view_module": "@jupyter-widgets/base",
            "_view_module_version": "1.2.0",
            "_view_name": "LayoutView",
            "align_content": null,
            "align_items": null,
            "align_self": null,
            "border": null,
            "bottom": null,
            "display": null,
            "flex": null,
            "flex_flow": null,
            "grid_area": null,
            "grid_auto_columns": null,
            "grid_auto_flow": null,
            "grid_auto_rows": null,
            "grid_column": null,
            "grid_gap": null,
            "grid_row": null,
            "grid_template_areas": null,
            "grid_template_columns": null,
            "grid_template_rows": null,
            "height": null,
            "justify_content": null,
            "justify_items": null,
            "left": null,
            "margin": null,
            "max_height": null,
            "max_width": null,
            "min_height": null,
            "min_width": null,
            "object_fit": null,
            "object_position": null,
            "order": null,
            "overflow": null,
            "overflow_x": null,
            "overflow_y": null,
            "padding": null,
            "right": null,
            "top": null,
            "visibility": null,
            "width": null
          }
        },
        "2b2aaf1b7045408ebeb9e7f055ed261e": {
          "model_module": "@jupyter-widgets/base",
          "model_module_version": "1.2.0",
          "model_name": "LayoutModel",
          "state": {
            "_model_module": "@jupyter-widgets/base",
            "_model_module_version": "1.2.0",
            "_model_name": "LayoutModel",
            "_view_count": null,
            "_view_module": "@jupyter-widgets/base",
            "_view_module_version": "1.2.0",
            "_view_name": "LayoutView",
            "align_content": null,
            "align_items": null,
            "align_self": null,
            "border": null,
            "bottom": null,
            "display": null,
            "flex": null,
            "flex_flow": null,
            "grid_area": null,
            "grid_auto_columns": null,
            "grid_auto_flow": null,
            "grid_auto_rows": null,
            "grid_column": null,
            "grid_gap": null,
            "grid_row": null,
            "grid_template_areas": null,
            "grid_template_columns": null,
            "grid_template_rows": null,
            "height": null,
            "justify_content": null,
            "justify_items": null,
            "left": null,
            "margin": null,
            "max_height": null,
            "max_width": null,
            "min_height": null,
            "min_width": null,
            "object_fit": null,
            "object_position": null,
            "order": null,
            "overflow": null,
            "overflow_x": null,
            "overflow_y": null,
            "padding": null,
            "right": null,
            "top": null,
            "visibility": null,
            "width": null
          }
        },
        "2f3a47c8eed645238853bb9a965f14c1": {
          "model_module": "@jupyter-widgets/controls",
          "model_module_version": "1.5.0",
          "model_name": "HTMLModel",
          "state": {
            "_dom_classes": [],
            "_model_module": "@jupyter-widgets/controls",
            "_model_module_version": "1.5.0",
            "_model_name": "HTMLModel",
            "_view_count": null,
            "_view_module": "@jupyter-widgets/controls",
            "_view_module_version": "1.5.0",
            "_view_name": "HTMLView",
            "description": "",
            "description_tooltip": null,
            "layout": "IPY_MODEL_918d35bf816c43dd8578676f7c168619",
            "placeholder": "​",
            "style": "IPY_MODEL_e0fbef0227e64c5a9391c1ae1364669b",
            "value": "config.json: 100%"
          }
        },
        "376d6d2d37064188a4e8364f1c87fc1d": {
          "model_module": "@jupyter-widgets/controls",
          "model_module_version": "1.5.0",
          "model_name": "ProgressStyleModel",
          "state": {
            "_model_module": "@jupyter-widgets/controls",
            "_model_module_version": "1.5.0",
            "_model_name": "ProgressStyleModel",
            "_view_count": null,
            "_view_module": "@jupyter-widgets/base",
            "_view_module_version": "1.2.0",
            "_view_name": "StyleView",
            "bar_color": null,
            "description_width": ""
          }
        },
        "3da8e298a0c14cfc897a24dc094ea890": {
          "model_module": "@jupyter-widgets/controls",
          "model_module_version": "1.5.0",
          "model_name": "HBoxModel",
          "state": {
            "_dom_classes": [],
            "_model_module": "@jupyter-widgets/controls",
            "_model_module_version": "1.5.0",
            "_model_name": "HBoxModel",
            "_view_count": null,
            "_view_module": "@jupyter-widgets/controls",
            "_view_module_version": "1.5.0",
            "_view_name": "HBoxView",
            "box_style": "",
            "children": [
              "IPY_MODEL_15c8d982a6ad47b99fb81b11571760ac",
              "IPY_MODEL_9631934291664ec3977047649720137a",
              "IPY_MODEL_09e11e37922f4906b6ce757fd177b041"
            ],
            "layout": "IPY_MODEL_72ae164103694accaf020d3e89b53521"
          }
        },
        "4e62110488fc453e863f3c751dc75325": {
          "model_module": "@jupyter-widgets/base",
          "model_module_version": "1.2.0",
          "model_name": "LayoutModel",
          "state": {
            "_model_module": "@jupyter-widgets/base",
            "_model_module_version": "1.2.0",
            "_model_name": "LayoutModel",
            "_view_count": null,
            "_view_module": "@jupyter-widgets/base",
            "_view_module_version": "1.2.0",
            "_view_name": "LayoutView",
            "align_content": null,
            "align_items": null,
            "align_self": null,
            "border": null,
            "bottom": null,
            "display": null,
            "flex": null,
            "flex_flow": null,
            "grid_area": null,
            "grid_auto_columns": null,
            "grid_auto_flow": null,
            "grid_auto_rows": null,
            "grid_column": null,
            "grid_gap": null,
            "grid_row": null,
            "grid_template_areas": null,
            "grid_template_columns": null,
            "grid_template_rows": null,
            "height": null,
            "justify_content": null,
            "justify_items": null,
            "left": null,
            "margin": null,
            "max_height": null,
            "max_width": null,
            "min_height": null,
            "min_width": null,
            "object_fit": null,
            "object_position": null,
            "order": null,
            "overflow": null,
            "overflow_x": null,
            "overflow_y": null,
            "padding": null,
            "right": null,
            "top": null,
            "visibility": null,
            "width": null
          }
        },
        "4f8e958001d44245af61b809d9931cf2": {
          "model_module": "@jupyter-widgets/controls",
          "model_module_version": "1.5.0",
          "model_name": "DescriptionStyleModel",
          "state": {
            "_model_module": "@jupyter-widgets/controls",
            "_model_module_version": "1.5.0",
            "_model_name": "DescriptionStyleModel",
            "_view_count": null,
            "_view_module": "@jupyter-widgets/base",
            "_view_module_version": "1.2.0",
            "_view_name": "StyleView",
            "description_width": ""
          }
        },
        "58ab5668c62a433fb9358f0103257890": {
          "model_module": "@jupyter-widgets/base",
          "model_module_version": "1.2.0",
          "model_name": "LayoutModel",
          "state": {
            "_model_module": "@jupyter-widgets/base",
            "_model_module_version": "1.2.0",
            "_model_name": "LayoutModel",
            "_view_count": null,
            "_view_module": "@jupyter-widgets/base",
            "_view_module_version": "1.2.0",
            "_view_name": "LayoutView",
            "align_content": null,
            "align_items": null,
            "align_self": null,
            "border": null,
            "bottom": null,
            "display": null,
            "flex": null,
            "flex_flow": null,
            "grid_area": null,
            "grid_auto_columns": null,
            "grid_auto_flow": null,
            "grid_auto_rows": null,
            "grid_column": null,
            "grid_gap": null,
            "grid_row": null,
            "grid_template_areas": null,
            "grid_template_columns": null,
            "grid_template_rows": null,
            "height": null,
            "justify_content": null,
            "justify_items": null,
            "left": null,
            "margin": null,
            "max_height": null,
            "max_width": null,
            "min_height": null,
            "min_width": null,
            "object_fit": null,
            "object_position": null,
            "order": null,
            "overflow": null,
            "overflow_x": null,
            "overflow_y": null,
            "padding": null,
            "right": null,
            "top": null,
            "visibility": null,
            "width": null
          }
        },
        "66a23d4c116748a99d8754e293486f12": {
          "model_module": "@jupyter-widgets/controls",
          "model_module_version": "1.5.0",
          "model_name": "HTMLModel",
          "state": {
            "_dom_classes": [],
            "_model_module": "@jupyter-widgets/controls",
            "_model_module_version": "1.5.0",
            "_model_name": "HTMLModel",
            "_view_count": null,
            "_view_module": "@jupyter-widgets/controls",
            "_view_module_version": "1.5.0",
            "_view_name": "HTMLView",
            "description": "",
            "description_tooltip": null,
            "layout": "IPY_MODEL_4e62110488fc453e863f3c751dc75325",
            "placeholder": "​",
            "style": "IPY_MODEL_9cead4ce18374994a418e48891f0ed09",
            "value": " 160/160 [00:00&lt;00:00, 6.84kB/s]"
          }
        },
        "69fc2a990e1d48bc83b475ac74b775a7": {
          "model_module": "@jupyter-widgets/controls",
          "model_module_version": "1.5.0",
          "model_name": "FloatProgressModel",
          "state": {
            "_dom_classes": [],
            "_model_module": "@jupyter-widgets/controls",
            "_model_module_version": "1.5.0",
            "_model_name": "FloatProgressModel",
            "_view_count": null,
            "_view_module": "@jupyter-widgets/controls",
            "_view_module_version": "1.5.0",
            "_view_name": "ProgressView",
            "bar_style": "success",
            "description": "",
            "description_tooltip": null,
            "layout": "IPY_MODEL_ca4c6620e7f545b094ac60f799de98d6",
            "max": 160,
            "min": 0,
            "orientation": "horizontal",
            "style": "IPY_MODEL_98e02ed558844372bd47267cbb4eea08",
            "value": 160
          }
        },
        "72ae164103694accaf020d3e89b53521": {
          "model_module": "@jupyter-widgets/base",
          "model_module_version": "1.2.0",
          "model_name": "LayoutModel",
          "state": {
            "_model_module": "@jupyter-widgets/base",
            "_model_module_version": "1.2.0",
            "_model_name": "LayoutModel",
            "_view_count": null,
            "_view_module": "@jupyter-widgets/base",
            "_view_module_version": "1.2.0",
            "_view_name": "LayoutView",
            "align_content": null,
            "align_items": null,
            "align_self": null,
            "border": null,
            "bottom": null,
            "display": null,
            "flex": null,
            "flex_flow": null,
            "grid_area": null,
            "grid_auto_columns": null,
            "grid_auto_flow": null,
            "grid_auto_rows": null,
            "grid_column": null,
            "grid_gap": null,
            "grid_row": null,
            "grid_template_areas": null,
            "grid_template_columns": null,
            "grid_template_rows": null,
            "height": null,
            "justify_content": null,
            "justify_items": null,
            "left": null,
            "margin": null,
            "max_height": null,
            "max_width": null,
            "min_height": null,
            "min_width": null,
            "object_fit": null,
            "object_position": null,
            "order": null,
            "overflow": null,
            "overflow_x": null,
            "overflow_y": null,
            "padding": null,
            "right": null,
            "top": null,
            "visibility": null,
            "width": null
          }
        },
        "84ef9da55c894da28705168f2795e0ef": {
          "model_module": "@jupyter-widgets/controls",
          "model_module_version": "1.5.0",
          "model_name": "DescriptionStyleModel",
          "state": {
            "_model_module": "@jupyter-widgets/controls",
            "_model_module_version": "1.5.0",
            "_model_name": "DescriptionStyleModel",
            "_view_count": null,
            "_view_module": "@jupyter-widgets/base",
            "_view_module_version": "1.2.0",
            "_view_name": "StyleView",
            "description_width": ""
          }
        },
        "8a497766105c46d3933312cfd5cdc67e": {
          "model_module": "@jupyter-widgets/base",
          "model_module_version": "1.2.0",
          "model_name": "LayoutModel",
          "state": {
            "_model_module": "@jupyter-widgets/base",
            "_model_module_version": "1.2.0",
            "_model_name": "LayoutModel",
            "_view_count": null,
            "_view_module": "@jupyter-widgets/base",
            "_view_module_version": "1.2.0",
            "_view_name": "LayoutView",
            "align_content": null,
            "align_items": null,
            "align_self": null,
            "border": null,
            "bottom": null,
            "display": null,
            "flex": null,
            "flex_flow": null,
            "grid_area": null,
            "grid_auto_columns": null,
            "grid_auto_flow": null,
            "grid_auto_rows": null,
            "grid_column": null,
            "grid_gap": null,
            "grid_row": null,
            "grid_template_areas": null,
            "grid_template_columns": null,
            "grid_template_rows": null,
            "height": null,
            "justify_content": null,
            "justify_items": null,
            "left": null,
            "margin": null,
            "max_height": null,
            "max_width": null,
            "min_height": null,
            "min_width": null,
            "object_fit": null,
            "object_position": null,
            "order": null,
            "overflow": null,
            "overflow_x": null,
            "overflow_y": null,
            "padding": null,
            "right": null,
            "top": null,
            "visibility": null,
            "width": null
          }
        },
        "918d35bf816c43dd8578676f7c168619": {
          "model_module": "@jupyter-widgets/base",
          "model_module_version": "1.2.0",
          "model_name": "LayoutModel",
          "state": {
            "_model_module": "@jupyter-widgets/base",
            "_model_module_version": "1.2.0",
            "_model_name": "LayoutModel",
            "_view_count": null,
            "_view_module": "@jupyter-widgets/base",
            "_view_module_version": "1.2.0",
            "_view_name": "LayoutView",
            "align_content": null,
            "align_items": null,
            "align_self": null,
            "border": null,
            "bottom": null,
            "display": null,
            "flex": null,
            "flex_flow": null,
            "grid_area": null,
            "grid_auto_columns": null,
            "grid_auto_flow": null,
            "grid_auto_rows": null,
            "grid_column": null,
            "grid_gap": null,
            "grid_row": null,
            "grid_template_areas": null,
            "grid_template_columns": null,
            "grid_template_rows": null,
            "height": null,
            "justify_content": null,
            "justify_items": null,
            "left": null,
            "margin": null,
            "max_height": null,
            "max_width": null,
            "min_height": null,
            "min_width": null,
            "object_fit": null,
            "object_position": null,
            "order": null,
            "overflow": null,
            "overflow_x": null,
            "overflow_y": null,
            "padding": null,
            "right": null,
            "top": null,
            "visibility": null,
            "width": null
          }
        },
        "9631934291664ec3977047649720137a": {
          "model_module": "@jupyter-widgets/controls",
          "model_module_version": "1.5.0",
          "model_name": "FloatProgressModel",
          "state": {
            "_dom_classes": [],
            "_model_module": "@jupyter-widgets/controls",
            "_model_module_version": "1.5.0",
            "_model_name": "FloatProgressModel",
            "_view_count": null,
            "_view_module": "@jupyter-widgets/controls",
            "_view_module_version": "1.5.0",
            "_view_name": "ProgressView",
            "bar_style": "success",
            "description": "",
            "description_tooltip": null,
            "layout": "IPY_MODEL_27b043480e3448879c44e9c6ff76e25b",
            "max": 345579424,
            "min": 0,
            "orientation": "horizontal",
            "style": "IPY_MODEL_a0037f778b404a879239efffa6786889",
            "value": 345579424
          }
        },
        "976866b9ca9146abb3ffe03307a5c167": {
          "model_module": "@jupyter-widgets/controls",
          "model_module_version": "1.5.0",
          "model_name": "DescriptionStyleModel",
          "state": {
            "_model_module": "@jupyter-widgets/controls",
            "_model_module_version": "1.5.0",
            "_model_name": "DescriptionStyleModel",
            "_view_count": null,
            "_view_module": "@jupyter-widgets/base",
            "_view_module_version": "1.2.0",
            "_view_name": "StyleView",
            "description_width": ""
          }
        },
        "98e02ed558844372bd47267cbb4eea08": {
          "model_module": "@jupyter-widgets/controls",
          "model_module_version": "1.5.0",
          "model_name": "ProgressStyleModel",
          "state": {
            "_model_module": "@jupyter-widgets/controls",
            "_model_module_version": "1.5.0",
            "_model_name": "ProgressStyleModel",
            "_view_count": null,
            "_view_module": "@jupyter-widgets/base",
            "_view_module_version": "1.2.0",
            "_view_name": "StyleView",
            "bar_color": null,
            "description_width": ""
          }
        },
        "994e0195110747b4bf377ac36141a8e6": {
          "model_module": "@jupyter-widgets/controls",
          "model_module_version": "1.5.0",
          "model_name": "HTMLModel",
          "state": {
            "_dom_classes": [],
            "_model_module": "@jupyter-widgets/controls",
            "_model_module_version": "1.5.0",
            "_model_name": "HTMLModel",
            "_view_count": null,
            "_view_module": "@jupyter-widgets/controls",
            "_view_module_version": "1.5.0",
            "_view_name": "HTMLView",
            "description": "",
            "description_tooltip": null,
            "layout": "IPY_MODEL_19e5b99ad3e5472291b61fc4380ddca2",
            "placeholder": "​",
            "style": "IPY_MODEL_976866b9ca9146abb3ffe03307a5c167",
            "value": " 502/502 [00:00&lt;00:00, 18.5kB/s]"
          }
        },
        "9cead4ce18374994a418e48891f0ed09": {
          "model_module": "@jupyter-widgets/controls",
          "model_module_version": "1.5.0",
          "model_name": "DescriptionStyleModel",
          "state": {
            "_model_module": "@jupyter-widgets/controls",
            "_model_module_version": "1.5.0",
            "_model_name": "DescriptionStyleModel",
            "_view_count": null,
            "_view_module": "@jupyter-widgets/base",
            "_view_module_version": "1.2.0",
            "_view_name": "StyleView",
            "description_width": ""
          }
        },
        "a0037f778b404a879239efffa6786889": {
          "model_module": "@jupyter-widgets/controls",
          "model_module_version": "1.5.0",
          "model_name": "ProgressStyleModel",
          "state": {
            "_model_module": "@jupyter-widgets/controls",
            "_model_module_version": "1.5.0",
            "_model_name": "ProgressStyleModel",
            "_view_count": null,
            "_view_module": "@jupyter-widgets/base",
            "_view_module_version": "1.2.0",
            "_view_name": "StyleView",
            "bar_color": null,
            "description_width": ""
          }
        },
        "c04515eba04a41c7a15b11aa99267d8c": {
          "model_module": "@jupyter-widgets/controls",
          "model_module_version": "1.5.0",
          "model_name": "HTMLModel",
          "state": {
            "_dom_classes": [],
            "_model_module": "@jupyter-widgets/controls",
            "_model_module_version": "1.5.0",
            "_model_name": "HTMLModel",
            "_view_count": null,
            "_view_module": "@jupyter-widgets/controls",
            "_view_module_version": "1.5.0",
            "_view_name": "HTMLView",
            "description": "",
            "description_tooltip": null,
            "layout": "IPY_MODEL_0ad43dea3c4e4c29871768d407e0ee13",
            "placeholder": "​",
            "style": "IPY_MODEL_4f8e958001d44245af61b809d9931cf2",
            "value": "preprocessor_config.json: 100%"
          }
        },
        "c60f046dd916442a90d27b3fe6f0ff13": {
          "model_module": "@jupyter-widgets/controls",
          "model_module_version": "1.5.0",
          "model_name": "DescriptionStyleModel",
          "state": {
            "_model_module": "@jupyter-widgets/controls",
            "_model_module_version": "1.5.0",
            "_model_name": "DescriptionStyleModel",
            "_view_count": null,
            "_view_module": "@jupyter-widgets/base",
            "_view_module_version": "1.2.0",
            "_view_name": "StyleView",
            "description_width": ""
          }
        },
        "ca4c6620e7f545b094ac60f799de98d6": {
          "model_module": "@jupyter-widgets/base",
          "model_module_version": "1.2.0",
          "model_name": "LayoutModel",
          "state": {
            "_model_module": "@jupyter-widgets/base",
            "_model_module_version": "1.2.0",
            "_model_name": "LayoutModel",
            "_view_count": null,
            "_view_module": "@jupyter-widgets/base",
            "_view_module_version": "1.2.0",
            "_view_name": "LayoutView",
            "align_content": null,
            "align_items": null,
            "align_self": null,
            "border": null,
            "bottom": null,
            "display": null,
            "flex": null,
            "flex_flow": null,
            "grid_area": null,
            "grid_auto_columns": null,
            "grid_auto_flow": null,
            "grid_auto_rows": null,
            "grid_column": null,
            "grid_gap": null,
            "grid_row": null,
            "grid_template_areas": null,
            "grid_template_columns": null,
            "grid_template_rows": null,
            "height": null,
            "justify_content": null,
            "justify_items": null,
            "left": null,
            "margin": null,
            "max_height": null,
            "max_width": null,
            "min_height": null,
            "min_width": null,
            "object_fit": null,
            "object_position": null,
            "order": null,
            "overflow": null,
            "overflow_x": null,
            "overflow_y": null,
            "padding": null,
            "right": null,
            "top": null,
            "visibility": null,
            "width": null
          }
        },
        "ccc6c6bbe4e74b508505c18978882db8": {
          "model_module": "@jupyter-widgets/controls",
          "model_module_version": "1.5.0",
          "model_name": "HBoxModel",
          "state": {
            "_dom_classes": [],
            "_model_module": "@jupyter-widgets/controls",
            "_model_module_version": "1.5.0",
            "_model_name": "HBoxModel",
            "_view_count": null,
            "_view_module": "@jupyter-widgets/controls",
            "_view_module_version": "1.5.0",
            "_view_name": "HBoxView",
            "box_style": "",
            "children": [
              "IPY_MODEL_c04515eba04a41c7a15b11aa99267d8c",
              "IPY_MODEL_69fc2a990e1d48bc83b475ac74b775a7",
              "IPY_MODEL_66a23d4c116748a99d8754e293486f12"
            ],
            "layout": "IPY_MODEL_22c69f081c424e70a5ff9810540f673c"
          }
        },
        "e0fbef0227e64c5a9391c1ae1364669b": {
          "model_module": "@jupyter-widgets/controls",
          "model_module_version": "1.5.0",
          "model_name": "DescriptionStyleModel",
          "state": {
            "_model_module": "@jupyter-widgets/controls",
            "_model_module_version": "1.5.0",
            "_model_name": "DescriptionStyleModel",
            "_view_count": null,
            "_view_module": "@jupyter-widgets/base",
            "_view_module_version": "1.2.0",
            "_view_name": "StyleView",
            "description_width": ""
          }
        },
        "ecab13ca4de849a08ace61fce6b69f14": {
          "model_module": "@jupyter-widgets/controls",
          "model_module_version": "1.5.0",
          "model_name": "FloatProgressModel",
          "state": {
            "_dom_classes": [],
            "_model_module": "@jupyter-widgets/controls",
            "_model_module_version": "1.5.0",
            "_model_name": "FloatProgressModel",
            "_view_count": null,
            "_view_module": "@jupyter-widgets/controls",
            "_view_module_version": "1.5.0",
            "_view_name": "ProgressView",
            "bar_style": "success",
            "description": "",
            "description_tooltip": null,
            "layout": "IPY_MODEL_8a497766105c46d3933312cfd5cdc67e",
            "max": 502,
            "min": 0,
            "orientation": "horizontal",
            "style": "IPY_MODEL_376d6d2d37064188a4e8364f1c87fc1d",
            "value": 502
          }
        },
        "f254a290508d457dbde4264d9b64b944": {
          "model_module": "@jupyter-widgets/base",
          "model_module_version": "1.2.0",
          "model_name": "LayoutModel",
          "state": {
            "_model_module": "@jupyter-widgets/base",
            "_model_module_version": "1.2.0",
            "_model_name": "LayoutModel",
            "_view_count": null,
            "_view_module": "@jupyter-widgets/base",
            "_view_module_version": "1.2.0",
            "_view_name": "LayoutView",
            "align_content": null,
            "align_items": null,
            "align_self": null,
            "border": null,
            "bottom": null,
            "display": null,
            "flex": null,
            "flex_flow": null,
            "grid_area": null,
            "grid_auto_columns": null,
            "grid_auto_flow": null,
            "grid_auto_rows": null,
            "grid_column": null,
            "grid_gap": null,
            "grid_row": null,
            "grid_template_areas": null,
            "grid_template_columns": null,
            "grid_template_rows": null,
            "height": null,
            "justify_content": null,
            "justify_items": null,
            "left": null,
            "margin": null,
            "max_height": null,
            "max_width": null,
            "min_height": null,
            "min_width": null,
            "object_fit": null,
            "object_position": null,
            "order": null,
            "overflow": null,
            "overflow_x": null,
            "overflow_y": null,
            "padding": null,
            "right": null,
            "top": null,
            "visibility": null,
            "width": null
          }
        },
        "f3082944e39249f5a9dadd63bce6ca8b": {
          "model_module": "@jupyter-widgets/controls",
          "model_module_version": "1.5.0",
          "model_name": "HBoxModel",
          "state": {
            "_dom_classes": [],
            "_model_module": "@jupyter-widgets/controls",
            "_model_module_version": "1.5.0",
            "_model_name": "HBoxModel",
            "_view_count": null,
            "_view_module": "@jupyter-widgets/controls",
            "_view_module_version": "1.5.0",
            "_view_name": "HBoxView",
            "box_style": "",
            "children": [
              "IPY_MODEL_2f3a47c8eed645238853bb9a965f14c1",
              "IPY_MODEL_ecab13ca4de849a08ace61fce6b69f14",
              "IPY_MODEL_994e0195110747b4bf377ac36141a8e6"
            ],
            "layout": "IPY_MODEL_58ab5668c62a433fb9358f0103257890"
          }
        }
      }
    }
  },
  "nbformat": 4,
  "nbformat_minor": 0
}
